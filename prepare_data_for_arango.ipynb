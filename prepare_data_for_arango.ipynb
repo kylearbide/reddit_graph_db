{
 "cells": [
  {
   "cell_type": "code",
   "execution_count": 6,
   "id": "53e5da18",
   "metadata": {},
   "outputs": [],
   "source": [
    "import dill as pkl\n",
    "from os import listdir\n",
    "from datetime import datetime"
   ]
  },
  {
   "cell_type": "code",
   "execution_count": 2,
   "id": "3399321a",
   "metadata": {},
   "outputs": [],
   "source": [
    "with open('cleaned_data/reddit_posts_clean.pkl','rb') as file:\n",
    "    data = pkl.load(file)"
   ]
  },
  {
   "cell_type": "code",
   "execution_count": 7,
   "id": "508a178a",
   "metadata": {},
   "outputs": [],
   "source": [
    "def create_posts_collection(data:list) -> list:\n",
    "    \"\"\"\n",
    "    Formats the posts for insertion into an arango collection\n",
    "    Args:\n",
    "        data: cleaned data containing all the posts (list)\n",
    "    Returns:\n",
    "        list: all posts formatted for arange insertion\n",
    "    \"\"\"\n",
    "    all_posts = []\n",
    "    for post in data:\n",
    "        ar_post = {}\n",
    "        ar_post.update({'_id': 'posts/' + post['id'], \n",
    "                        'title':post['title'],\n",
    "                        'datetime':post['Reference_Date'].strftime('%m-%d-%Y, %H:%M:%S'),\n",
    "                        'num_comments':post['num_comments'],\n",
    "                        'num_upvotes':post['num_upvotes'],\n",
    "                        'body':post['body']})\n",
    "        \n",
    "        try:\n",
    "            ar_post.update({'tag':post['tag']})\n",
    "        except:\n",
    "            pass\n",
    "                           \n",
    "        all_posts.append(ar_post)\n",
    "    return(all_posts)\n",
    "\n",
    "def create_comments_collection(data:list) -> list:\n",
    "    \"\"\"\n",
    "    Formats the comments for insertion into an arango collection\n",
    "    NOTE: there are some duplicate comments so we will eliminate them\n",
    "    Args:\n",
    "        data: cleaned data containing all the posts (list)\n",
    "    Returns:\n",
    "        list: all comments formatted for arango insertion\n",
    "    \"\"\"\n",
    "    all_comments = []\n",
    "    all_ids = []\n",
    "    for post in data:\n",
    "        for comment in post['comments']:\n",
    "            if comment['comment_id'] not in all_ids:\n",
    "                ar_comment = {}\n",
    "                ar_comment.update({'_id': 'comments/' + comment['comment_id'],\n",
    "                                   'body': comment['body'],\n",
    "                                   'upvotes': comment['upvotes']})\n",
    "                all_comments.append(ar_comment)\n",
    "                all_ids.append(comment['comment_id'])\n",
    "            \n",
    "    return(all_comments)\n",
    "\n",
    "def create_commeted_on_edge_collection(data:list) -> list:\n",
    "    \"\"\"\n",
    "    Creates edge collection for the relationships between posts and comments\n",
    "    Args:\n",
    "        data: cleaned data containing all the posts (list)\n",
    "    Returns:\n",
    "        list: all edges between posts and comments formatted for arango insertion\n",
    "    \"\"\"\n",
    "    all_ids = []\n",
    "    id_root = 'commented_on/'\n",
    "    all_edges = []\n",
    "    \n",
    "    for post in data:\n",
    "        for comment in post['comments']:\n",
    "            if comment['comment_id'] not in all_ids:\n",
    "                all_ids.append(comment['comment_id'])\n",
    "                \n",
    "                ar_edge = {}\n",
    "                ar_id = id_root + post['id'] + \"-\" + comment['comment_id']\n",
    "                ar_edge.update({'_id':ar_id,\n",
    "                                '_from': 'comments/' + comment['comment_id'],\n",
    "                                '_to': 'posts/' + post['id']})\n",
    "                \n",
    "                all_edges.append(ar_edge)\n",
    "                \n",
    "                \n",
    "    return(all_edges)\n",
    "\n",
    "def create_users_collection(data:list) -> list:\n",
    "    \"\"\"\n",
    "    Formats the users for insertion into an arango collection\n",
    "    NOTE: have to be sure not to include duplicate users\n",
    "    Args:\n",
    "        data: cleaned data containing all the posts (list)\n",
    "    Returns:\n",
    "        list: all comments formatted for arango insertion\n",
    "    \"\"\"\n",
    "    all_users = []\n",
    "    user_ids = []\n",
    "    user_root = 'users/'\n",
    "    for post in data:\n",
    "        if post['author'] not in user_ids:\n",
    "            user = {'_id': user_root + post['author']}\n",
    "            \n",
    "            all_users.append(user)\n",
    "            user_ids.append(post['author'])\n",
    "        for comment in post['comments']:\n",
    "            if comment['username'] not in user_ids:\n",
    "                user = {'_id': user_root + comment['username']}\n",
    "                \n",
    "                all_users.append(user)\n",
    "                user_ids.append(comment['username'])\n",
    "    return(all_users)\n",
    "\n",
    "def create_posted_edge_collection(data:list) -> list:\n",
    "    \"\"\"\n",
    "    Creates edge collection for the relationships between posts and users\n",
    "    Args:\n",
    "        data: cleaned data containing all the posts (list)\n",
    "    Returns:\n",
    "        list: all edges between posts and users formatted for arango insertion\n",
    "    \"\"\"\n",
    "    all_edges = []\n",
    "    id_root = 'posted/'\n",
    "    for post in data:\n",
    "        \n",
    "        ar_edge_id = id_root + post['id'] + '-' + post['author']\n",
    "        ar_user = 'users/' + post['author']\n",
    "        ar_post = 'posts/' + post['id']\n",
    "        \n",
    "        ar_edge = {'_id': ar_edge_id,\n",
    "                   '_from': ar_user,\n",
    "                   '_to': ar_post,\n",
    "                   'date': post['Reference_Date'].strftime('%m-%d-%Y, %H:%M:%S')}\n",
    "        \n",
    "        all_edges.append(ar_edge)\n",
    "    \n",
    "    return(all_edges)\n",
    "\n",
    "def create_commented_edge_collection(data:list) -> list:\n",
    "    \"\"\"\n",
    "    Creates edge collection for the relationships between comments and users\n",
    "    Args:\n",
    "        data: cleaned data containing all the posts (list)\n",
    "    Returns:\n",
    "        list: all edges between comments and users formatted for arango insertion\n",
    "    \"\"\"\n",
    "    comment_ids = []\n",
    "    all_edges = []\n",
    "    id_root = 'commented/'\n",
    "    \n",
    "    for post in data:\n",
    "        for comment in post['comments']:\n",
    "            if comment['comment_id'] not in comment_ids:\n",
    "                comment_ids.append(comment['comment_id'])\n",
    "                \n",
    "                ar_edge_id = id_root + comment['comment_id'] + comment['username']\n",
    "                ar_user = 'users/' + comment['username']\n",
    "                ar_comment = 'comments/' + comment['comment_id']\n",
    "                \n",
    "                ar_edge = {'_id': ar_edge_id,\n",
    "                           '_from': ar_user,\n",
    "                           '_to': ar_comment}\n",
    "                all_edges.append(ar_edge)\n",
    "                \n",
    "    return(all_edges)\n",
    "\n",
    "def create_comment_thread_edge_collection(data:list) -> list:\n",
    "    \"\"\"\n",
    "    Creates edge collection for the relationships between comments and other comments.\n",
    "    This exists when comments are part of a thread\n",
    "    Args:\n",
    "        data: cleaned data containing all the posts (list)\n",
    "    Returns:\n",
    "        list: all edges between comments and comments formatted for arango insertion\n",
    "    \"\"\"\n",
    "    all_edges = []\n",
    "    id_root = 'comment_thread/'\n",
    "    comment_ids = []\n",
    "    for post in data:\n",
    "        for comment in post['comments']:\n",
    "            if comment['comment_id'] not in comment_ids:\n",
    "                try:\n",
    "                    comment['reply_to_id']\n",
    "\n",
    "                    ar_edge_id = id_root + comment['reply_to_id'] + '-' + comment['comment_id']\n",
    "\n",
    "                    ar_edge = {'_id':ar_edge_id,\n",
    "                               '_from': 'comments/' + comment['comment_id'],\n",
    "                               '_to': 'comments/' + comment['reply_to_id']}\n",
    "                    \n",
    "                    \n",
    "                    comment_ids.append(comment['comment_id'])\n",
    "                    all_edges.append(ar_edge)\n",
    "                except:\n",
    "                    pass\n",
    "    return(all_edges)"
   ]
  },
  {
   "cell_type": "code",
   "execution_count": 48,
   "id": "d08d8963",
   "metadata": {},
   "outputs": [
    {
     "name": "stdout",
     "output_type": "stream",
     "text": [
      "598\n"
     ]
    },
    {
     "data": {
      "text/plain": [
       "{'_id': 'posts/pst_100',\n",
       " 'title': 'What Are Your Moves Tomorrow, February 17, 2022',\n",
       " 'datetime': '02-16-2022, 16:17:21',\n",
       " 'num_comments': 12100,\n",
       " 'num_upvotes': 292,\n",
       " 'body': 'What Are Your Moves Tomorrow, February 17, 2022',\n",
       " 'tag': 'Daily Discussion'}"
      ]
     },
     "execution_count": 48,
     "metadata": {},
     "output_type": "execute_result"
    }
   ],
   "source": [
    "posts_collection = create_posts_collection(data)\n",
    "print(len(posts_collection))\n",
    "posts_collection[0]"
   ]
  },
  {
   "cell_type": "code",
   "execution_count": 20,
   "id": "fa7dc50f",
   "metadata": {},
   "outputs": [],
   "source": [
    "with open('arango_formed_data/posts_collection.pkl','wb') as file:\n",
    "    pkl.dump(posts_collection, file)"
   ]
  },
  {
   "cell_type": "code",
   "execution_count": 42,
   "id": "9b793e5a",
   "metadata": {},
   "outputs": [
    {
     "name": "stdout",
     "output_type": "stream",
     "text": [
      "13552\n"
     ]
    },
    {
     "data": {
      "text/plain": [
       "{'_id': 'comments/t1_hx84k5q',\n",
       " 'body': ' Silly me for investing in calls on a company that manufactures very very high end GPUs and other essential computer components.  I should’ve bought calls in checks notes the food delivery company that delivers the wrong food, cold, to the wrong address',\n",
       " 'upvotes': 125}"
      ]
     },
     "execution_count": 42,
     "metadata": {},
     "output_type": "execute_result"
    }
   ],
   "source": [
    "comments_collection = create_comments_collection(data)\n",
    "print(len(comments_collection))\n",
    "comments_collection[0]"
   ]
  },
  {
   "cell_type": "code",
   "execution_count": 46,
   "id": "76ae5ae2",
   "metadata": {},
   "outputs": [],
   "source": [
    "with open('arango_formed_data/comments_collection.pkl','wb') as file:\n",
    "    pkl.dump(comments_collection, file)"
   ]
  },
  {
   "cell_type": "code",
   "execution_count": 54,
   "id": "99d6a48a",
   "metadata": {},
   "outputs": [
    {
     "name": "stdout",
     "output_type": "stream",
     "text": [
      "13552\n"
     ]
    },
    {
     "data": {
      "text/plain": [
       "{'_id': 'commented_on/pst_100-t1_hx84k5q',\n",
       " '_from': 'comments/t1_hx84k5q',\n",
       " '_to': 'posts/pst_100'}"
      ]
     },
     "execution_count": 54,
     "metadata": {},
     "output_type": "execute_result"
    }
   ],
   "source": [
    "commented_on_edges = create_commeted_on_edge_collection(data)\n",
    "print(len(commented_on_edges))\n",
    "commented_on_edges[0]"
   ]
  },
  {
   "cell_type": "code",
   "execution_count": 55,
   "id": "e12e2921",
   "metadata": {},
   "outputs": [],
   "source": [
    "with open('arango_formed_data/commented_on_edge_collection.pkl','wb') as file:\n",
    "    pkl.dump(commented_on_edges, file)"
   ]
  },
  {
   "cell_type": "code",
   "execution_count": 59,
   "id": "ba9e63fb",
   "metadata": {},
   "outputs": [
    {
     "name": "stdout",
     "output_type": "stream",
     "text": [
      "6868\n"
     ]
    },
    {
     "data": {
      "text/plain": [
       "{'_id': 'users/CyborgAlgoInvestor'}"
      ]
     },
     "execution_count": 59,
     "metadata": {},
     "output_type": "execute_result"
    }
   ],
   "source": [
    "users_collection = create_users_collection(data)\n",
    "print(len(users_collection))\n",
    "users_collection[5]"
   ]
  },
  {
   "cell_type": "code",
   "execution_count": 60,
   "id": "4d9a8eca",
   "metadata": {},
   "outputs": [],
   "source": [
    "with open('arango_formed_data/users_collection.pkl','wb') as file:\n",
    "    pkl.dump(users_collection, file)"
   ]
  },
  {
   "cell_type": "code",
   "execution_count": 62,
   "id": "b0ae6348",
   "metadata": {},
   "outputs": [
    {
     "name": "stdout",
     "output_type": "stream",
     "text": [
      "598\n"
     ]
    },
    {
     "data": {
      "text/plain": [
       "{'_id': 'posted/pst_105-NyCWalker76',\n",
       " '_from': 'users/NyCWalker76',\n",
       " '_to': 'posts/pst_105',\n",
       " 'date': '02-16-2022, 22:19:52'}"
      ]
     },
     "execution_count": 62,
     "metadata": {},
     "output_type": "execute_result"
    }
   ],
   "source": [
    "posted_edges = create_posted_edge_collection(data)\n",
    "print(len(posted_edges))\n",
    "posted_edges[5]"
   ]
  },
  {
   "cell_type": "code",
   "execution_count": 63,
   "id": "7b1cee6b",
   "metadata": {},
   "outputs": [],
   "source": [
    "with open('arango_formed_data/posted_edge_collection.pkl','wb') as file:\n",
    "    pkl.dump(posted_edges, file)"
   ]
  },
  {
   "cell_type": "code",
   "execution_count": 69,
   "id": "c5d79833",
   "metadata": {},
   "outputs": [
    {
     "name": "stdout",
     "output_type": "stream",
     "text": [
      "13552\n"
     ]
    },
    {
     "data": {
      "text/plain": [
       "{'_id': 'commented/t1_hx8g1phHereComesThe_Squeeze',\n",
       " '_from': 'users/HereComesThe_Squeeze',\n",
       " '_to': 'comments/t1_hx8g1ph'}"
      ]
     },
     "execution_count": 69,
     "metadata": {},
     "output_type": "execute_result"
    }
   ],
   "source": [
    "commented_edges = create_commented_edge_collection(data)\n",
    "print(len(commented_edges))\n",
    "commented_edges[3]"
   ]
  },
  {
   "cell_type": "code",
   "execution_count": 70,
   "id": "14015542",
   "metadata": {},
   "outputs": [],
   "source": [
    "with open('arango_formed_data/commented_edge_collection.pkl','wb') as file:\n",
    "    pkl.dump(commented_edges, file)"
   ]
  },
  {
   "cell_type": "code",
   "execution_count": 8,
   "id": "f97cd9cb",
   "metadata": {},
   "outputs": [
    {
     "name": "stdout",
     "output_type": "stream",
     "text": [
      "6797\n"
     ]
    },
    {
     "data": {
      "text/plain": [
       "{'_id': 'comment_thread/t1_i2h8z4u-t1_i2h92k1',\n",
       " '_from': 'comments/t1_i2h92k1',\n",
       " '_to': 'comments/t1_i2h8z4u'}"
      ]
     },
     "execution_count": 8,
     "metadata": {},
     "output_type": "execute_result"
    }
   ],
   "source": [
    "comment_thread_edges = create_comment_thread_edge_collection(data)\n",
    "print(len(comment_thread_edges))\n",
    "comment_thread_edges[0]"
   ]
  },
  {
   "cell_type": "code",
   "execution_count": 9,
   "id": "fcdef36d",
   "metadata": {},
   "outputs": [],
   "source": [
    "with open('arango_formed_data/comment_thread_edge_collection.pkl','wb') as file:\n",
    "    pkl.dump(comment_thread_edges, file)"
   ]
  }
 ],
 "metadata": {
  "kernelspec": {
   "display_name": "Python 3",
   "language": "python",
   "name": "python3"
  },
  "language_info": {
   "codemirror_mode": {
    "name": "ipython",
    "version": 3
   },
   "file_extension": ".py",
   "mimetype": "text/x-python",
   "name": "python",
   "nbconvert_exporter": "python",
   "pygments_lexer": "ipython3",
   "version": "3.8.8"
  }
 },
 "nbformat": 4,
 "nbformat_minor": 5
}

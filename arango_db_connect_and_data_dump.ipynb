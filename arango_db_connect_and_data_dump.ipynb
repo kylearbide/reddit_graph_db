{
 "cells": [
  {
   "cell_type": "code",
   "execution_count": 33,
   "id": "68486f06",
   "metadata": {},
   "outputs": [],
   "source": [
    "import json\n",
    "import dill as pkl\n",
    "import networkx as nx\n",
    "import matplotlib.pyplot as plt\n",
    "\n",
    "from arango import ArangoClient"
   ]
  },
  {
   "cell_type": "code",
   "execution_count": 26,
   "id": "7ee97c83",
   "metadata": {},
   "outputs": [],
   "source": [
    "# Establish Client Connection\n",
    "client = ArangoClient(hosts='http://127.0.0.1:8529')\n",
    "\n",
    "db = client.db('reddit_comp_db', username='root', password='Mango0521!')"
   ]
  },
  {
   "cell_type": "code",
   "execution_count": 41,
   "id": "74a6b372",
   "metadata": {},
   "outputs": [],
   "source": [
    "# create the graph\n",
    "if db.has_graph('reddit'):\n",
    "    reddit = db.graph('reddit')\n",
    "else:\n",
    "    reddit = db.create_graph('reddit')"
   ]
  },
  {
   "cell_type": "code",
   "execution_count": 42,
   "id": "600138df",
   "metadata": {},
   "outputs": [],
   "source": [
    "# Create the Posts collection\n",
    "if reddit.has_vertex_collection('posts'):\n",
    "    posts = reddit.vertex_collection('posts')\n",
    "else:\n",
    "    posts = reddit.create_vertex_collection('posts')"
   ]
  },
  {
   "cell_type": "code",
   "execution_count": 43,
   "id": "deba8ffc",
   "metadata": {},
   "outputs": [],
   "source": [
    "# Read posts collection\n",
    "with open('arango_formed_data/posts_collection.pkl','rb') as file:\n",
    "    posts_collection = pkl.load(file)"
   ]
  },
  {
   "cell_type": "code",
   "execution_count": null,
   "id": "2d5b5ade",
   "metadata": {},
   "outputs": [],
   "source": [
    "# Insert data from the posts collection\n",
    "cursor = db.aql.execute('FOR doc IN posts RETURN doc')\n",
    "\n",
    "if not list(cursor):\n",
    "    posts.import_bulk(posts_collection)\n",
    "else:\n",
    "    print('document already populated')"
   ]
  },
  {
   "cell_type": "code",
   "execution_count": 45,
   "id": "aee72534",
   "metadata": {},
   "outputs": [],
   "source": [
    "# Create the Comments collection\n",
    "if reddit.has_vertex_collection('comments'):\n",
    "    comments = reddit.vertex_collection('comments')\n",
    "else:\n",
    "    comments = reddit.create_vertex_collection('comments')"
   ]
  },
  {
   "cell_type": "code",
   "execution_count": 49,
   "id": "dadb337b",
   "metadata": {},
   "outputs": [],
   "source": [
    "# Read comments collection\n",
    "with open('arango_formed_data/comments_collection.pkl','rb') as file:\n",
    "    comments_collection = pkl.load(file)"
   ]
  },
  {
   "cell_type": "code",
   "execution_count": 50,
   "id": "0b58b215",
   "metadata": {},
   "outputs": [],
   "source": [
    "cursor = db.aql.execute('FOR doc IN comments RETURN doc')\n",
    "\n",
    "if not list(cursor):\n",
    "    comments.import_bulk(comments_collection)\n",
    "else:\n",
    "    print('document already populated')"
   ]
  },
  {
   "cell_type": "code",
   "execution_count": 51,
   "id": "471d5588",
   "metadata": {},
   "outputs": [],
   "source": [
    "# Create Commented on (post and comments) edge collection\n",
    "if reddit.has_edge_definition('commented_on'):\n",
    "    commented_on = reddit.edge_collection('commented_on')\n",
    "else:\n",
    "    commented_on = reddit.create_edge_definition(\n",
    "        edge_collection='commented_on',\n",
    "        from_vertex_collections=['comments'],\n",
    "        to_vertex_collections=['posts']\n",
    "    )\n"
   ]
  },
  {
   "cell_type": "code",
   "execution_count": 54,
   "id": "0a121561",
   "metadata": {},
   "outputs": [],
   "source": [
    "# Read commented on edge collection\n",
    "with open('arango_formed_data/commented_on_edge_collection.pkl','rb') as file:\n",
    "    commented_on_edge_collection = pkl.load(file)"
   ]
  },
  {
   "cell_type": "code",
   "execution_count": 55,
   "id": "6c4036ef",
   "metadata": {},
   "outputs": [],
   "source": [
    "cursor = db.aql.execute('FOR doc IN commented_on RETURN doc')\n",
    "\n",
    "if not list(cursor):\n",
    "    commented_on.import_bulk(commented_on_edge_collection)\n",
    "else:\n",
    "    print('document already populated')"
   ]
  },
  {
   "cell_type": "code",
   "execution_count": 56,
   "id": "b4ccf556",
   "metadata": {},
   "outputs": [],
   "source": [
    "# Create the users collection\n",
    "if reddit.has_vertex_collection('users'):\n",
    "    users = reddit.vertex_collection('users')\n",
    "else:\n",
    "    users = reddit.create_vertex_collection('users')"
   ]
  },
  {
   "cell_type": "code",
   "execution_count": 57,
   "id": "9522b43c",
   "metadata": {},
   "outputs": [],
   "source": [
    "# Read users collection\n",
    "with open('arango_formed_data/users_collection.pkl','rb') as file:\n",
    "    users_collection = pkl.load(file)"
   ]
  },
  {
   "cell_type": "code",
   "execution_count": 58,
   "id": "08371980",
   "metadata": {},
   "outputs": [],
   "source": [
    "cursor = db.aql.execute('FOR doc IN users RETURN doc')\n",
    "\n",
    "if not list(cursor):\n",
    "    users.import_bulk(users_collection)\n",
    "else:\n",
    "    print('document already populated')"
   ]
  },
  {
   "cell_type": "code",
   "execution_count": 59,
   "id": "e04aa974",
   "metadata": {},
   "outputs": [],
   "source": [
    "# Create Posted (posts and users) edge collection\n",
    "if reddit.has_edge_definition('posted'):\n",
    "    posted = reddit.edge_collection('posted')\n",
    "else:\n",
    "    posted = reddit.create_edge_definition(\n",
    "        edge_collection='posted',\n",
    "        from_vertex_collections=['users'],\n",
    "        to_vertex_collections=['posts']\n",
    "    )"
   ]
  },
  {
   "cell_type": "code",
   "execution_count": 60,
   "id": "1c105f1a",
   "metadata": {},
   "outputs": [],
   "source": [
    "# Read posted edge collection\n",
    "with open('arango_formed_data/posted_edge_collection.pkl','rb') as file:\n",
    "    posted_edge_collection = pkl.load(file)"
   ]
  },
  {
   "cell_type": "code",
   "execution_count": 61,
   "id": "09ee001b",
   "metadata": {},
   "outputs": [],
   "source": [
    "cursor = db.aql.execute('FOR doc IN posted RETURN doc')\n",
    "\n",
    "if not list(cursor):\n",
    "    posted.import_bulk(posted_edge_collection)\n",
    "else:\n",
    "    print('document already populated')"
   ]
  },
  {
   "cell_type": "code",
   "execution_count": 62,
   "id": "187b3945",
   "metadata": {},
   "outputs": [],
   "source": [
    "# Create Commented (comments and users) edge collection\n",
    "if reddit.has_edge_definition('commented'):\n",
    "    commented = reddit.edge_collection('commented')\n",
    "else:\n",
    "    commented = reddit.create_edge_definition(\n",
    "        edge_collection='commented',\n",
    "        from_vertex_collections=['users'],\n",
    "        to_vertex_collections=['comments']\n",
    "    )"
   ]
  },
  {
   "cell_type": "code",
   "execution_count": 63,
   "id": "e36d38c4",
   "metadata": {},
   "outputs": [],
   "source": [
    "# Read commented edge collection\n",
    "with open('arango_formed_data/commented_edge_collection.pkl','rb') as file:\n",
    "    commented_edge_collection = pkl.load(file)"
   ]
  },
  {
   "cell_type": "code",
   "execution_count": 64,
   "id": "f2c30cb5",
   "metadata": {},
   "outputs": [],
   "source": [
    "cursor = db.aql.execute('FOR doc IN commented RETURN doc')\n",
    "\n",
    "if not list(cursor):\n",
    "    commented.import_bulk(commented_edge_collection)\n",
    "else:\n",
    "    print('document already populated')"
   ]
  }
 ],
 "metadata": {
  "kernelspec": {
   "display_name": "Python 3",
   "language": "python",
   "name": "python3"
  },
  "language_info": {
   "codemirror_mode": {
    "name": "ipython",
    "version": 3
   },
   "file_extension": ".py",
   "mimetype": "text/x-python",
   "name": "python",
   "nbconvert_exporter": "python",
   "pygments_lexer": "ipython3",
   "version": "3.8.8"
  }
 },
 "nbformat": 4,
 "nbformat_minor": 5
}

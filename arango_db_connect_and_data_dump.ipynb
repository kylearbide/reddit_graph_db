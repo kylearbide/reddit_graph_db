{
 "cells": [
  {
   "cell_type": "code",
   "execution_count": 1,
   "id": "68486f06",
   "metadata": {},
   "outputs": [],
   "source": [
    "import json\n",
    "import dill as pkl\n",
    "import networkx as nx\n",
    "import matplotlib.pyplot as plt\n",
    "\n",
    "from arango import ArangoClient"
   ]
  },
  {
   "cell_type": "code",
   "execution_count": 4,
   "id": "7ee97c83",
   "metadata": {},
   "outputs": [],
   "source": [
    "# Establish Client Connection\n",
    "client = ArangoClient(hosts='http://127.0.0.1:8530')\n",
    "\n",
    "db = client.db('reddit_comp_db', username='root', password='compdb_kyle')"
   ]
  },
  {
   "cell_type": "code",
   "execution_count": 5,
   "id": "74a6b372",
   "metadata": {},
   "outputs": [],
   "source": [
    "# create the graph\n",
    "if db.has_graph('reddit'):\n",
    "    reddit = db.graph('reddit')\n",
    "else:\n",
    "    reddit = db.create_graph('reddit')"
   ]
  },
  {
   "cell_type": "code",
   "execution_count": 6,
   "id": "600138df",
   "metadata": {},
   "outputs": [],
   "source": [
    "# Create the Posts collection\n",
    "if reddit.has_vertex_collection('posts'):\n",
    "    posts = reddit.vertex_collection('posts')\n",
    "else:\n",
    "    posts = reddit.create_vertex_collection('posts')"
   ]
  },
  {
   "cell_type": "code",
   "execution_count": 7,
   "id": "deba8ffc",
   "metadata": {},
   "outputs": [],
   "source": [
    "# Read posts collection\n",
    "with open('arango_formed_data/posts_collection.pkl','rb') as file:\n",
    "    posts_collection = pkl.load(file)"
   ]
  },
  {
   "cell_type": "code",
   "execution_count": 8,
   "id": "2d5b5ade",
   "metadata": {},
   "outputs": [],
   "source": [
    "# Insert data from the posts collection\n",
    "cursor = db.aql.execute('FOR doc IN posts RETURN doc')\n",
    "\n",
    "if not list(cursor):\n",
    "    posts.import_bulk(posts_collection)\n",
    "else:\n",
    "    print('document already populated')"
   ]
  },
  {
   "cell_type": "code",
   "execution_count": 9,
   "id": "aee72534",
   "metadata": {},
   "outputs": [],
   "source": [
    "# Create the Comments collection\n",
    "if reddit.has_vertex_collection('comments'):\n",
    "    comments = reddit.vertex_collection('comments')\n",
    "else:\n",
    "    comments = reddit.create_vertex_collection('comments')"
   ]
  },
  {
   "cell_type": "code",
   "execution_count": 10,
   "id": "dadb337b",
   "metadata": {},
   "outputs": [],
   "source": [
    "# Read comments collection\n",
    "with open('arango_formed_data/comments_collection.pkl','rb') as file:\n",
    "    comments_collection = pkl.load(file)"
   ]
  },
  {
   "cell_type": "code",
   "execution_count": 11,
   "id": "0b58b215",
   "metadata": {},
   "outputs": [],
   "source": [
    "cursor = db.aql.execute('FOR doc IN comments RETURN doc')\n",
    "\n",
    "if not list(cursor):\n",
    "    comments.import_bulk(comments_collection)\n",
    "else:\n",
    "    print('document already populated')"
   ]
  },
  {
   "cell_type": "code",
   "execution_count": 12,
   "id": "471d5588",
   "metadata": {},
   "outputs": [],
   "source": [
    "# Create Commented on (post and comments) edge collection\n",
    "if reddit.has_edge_definition('commented_on'):\n",
    "    commented_on = reddit.edge_collection('commented_on')\n",
    "else:\n",
    "    commented_on = reddit.create_edge_definition(\n",
    "        edge_collection='commented_on',\n",
    "        from_vertex_collections=['comments'],\n",
    "        to_vertex_collections=['posts']\n",
    "    )\n"
   ]
  },
  {
   "cell_type": "code",
   "execution_count": 13,
   "id": "0a121561",
   "metadata": {},
   "outputs": [],
   "source": [
    "# Read commented on edge collection\n",
    "with open('arango_formed_data/commented_on_edge_collection.pkl','rb') as file:\n",
    "    commented_on_edge_collection = pkl.load(file)"
   ]
  },
  {
   "cell_type": "code",
   "execution_count": 14,
   "id": "6c4036ef",
   "metadata": {},
   "outputs": [],
   "source": [
    "cursor = db.aql.execute('FOR doc IN commented_on RETURN doc')\n",
    "\n",
    "if not list(cursor):\n",
    "    commented_on.import_bulk(commented_on_edge_collection)\n",
    "else:\n",
    "    print('document already populated')"
   ]
  },
  {
   "cell_type": "code",
   "execution_count": 15,
   "id": "b4ccf556",
   "metadata": {},
   "outputs": [],
   "source": [
    "# Create the users collection\n",
    "if reddit.has_vertex_collection('users'):\n",
    "    users = reddit.vertex_collection('users')\n",
    "else:\n",
    "    users = reddit.create_vertex_collection('users')"
   ]
  },
  {
   "cell_type": "code",
   "execution_count": 16,
   "id": "9522b43c",
   "metadata": {},
   "outputs": [],
   "source": [
    "# Read users collection\n",
    "with open('arango_formed_data/users_collection.pkl','rb') as file:\n",
    "    users_collection = pkl.load(file)"
   ]
  },
  {
   "cell_type": "code",
   "execution_count": 17,
   "id": "08371980",
   "metadata": {},
   "outputs": [],
   "source": [
    "cursor = db.aql.execute('FOR doc IN users RETURN doc')\n",
    "\n",
    "if not list(cursor):\n",
    "    users.import_bulk(users_collection)\n",
    "else:\n",
    "    print('document already populated')"
   ]
  },
  {
   "cell_type": "code",
   "execution_count": 18,
   "id": "e04aa974",
   "metadata": {},
   "outputs": [],
   "source": [
    "# Create Posted (posts and users) edge collection\n",
    "if reddit.has_edge_definition('posted'):\n",
    "    posted = reddit.edge_collection('posted')\n",
    "else:\n",
    "    posted = reddit.create_edge_definition(\n",
    "        edge_collection='posted',\n",
    "        from_vertex_collections=['users'],\n",
    "        to_vertex_collections=['posts']\n",
    "    )"
   ]
  },
  {
   "cell_type": "code",
   "execution_count": 19,
   "id": "1c105f1a",
   "metadata": {},
   "outputs": [],
   "source": [
    "# Read posted edge collection\n",
    "with open('arango_formed_data/posted_edge_collection.pkl','rb') as file:\n",
    "    posted_edge_collection = pkl.load(file)"
   ]
  },
  {
   "cell_type": "code",
   "execution_count": 20,
   "id": "09ee001b",
   "metadata": {},
   "outputs": [],
   "source": [
    "cursor = db.aql.execute('FOR doc IN posted RETURN doc')\n",
    "\n",
    "if not list(cursor):\n",
    "    posted.import_bulk(posted_edge_collection)\n",
    "else:\n",
    "    print('document already populated')"
   ]
  },
  {
   "cell_type": "code",
   "execution_count": 21,
   "id": "187b3945",
   "metadata": {},
   "outputs": [],
   "source": [
    "# Create Commented (comments and users) edge collection\n",
    "if reddit.has_edge_definition('commented'):\n",
    "    commented = reddit.edge_collection('commented')\n",
    "else:\n",
    "    commented = reddit.create_edge_definition(\n",
    "        edge_collection='commented',\n",
    "        from_vertex_collections=['users'],\n",
    "        to_vertex_collections=['comments']\n",
    "    )"
   ]
  },
  {
   "cell_type": "code",
   "execution_count": 22,
   "id": "e36d38c4",
   "metadata": {},
   "outputs": [],
   "source": [
    "# Read commented edge collection\n",
    "with open('arango_formed_data/commented_edge_collection.pkl','rb') as file:\n",
    "    commented_edge_collection = pkl.load(file)"
   ]
  },
  {
   "cell_type": "code",
   "execution_count": 23,
   "id": "f2c30cb5",
   "metadata": {},
   "outputs": [],
   "source": [
    "cursor = db.aql.execute('FOR doc IN commented RETURN doc')\n",
    "\n",
    "if not list(cursor):\n",
    "    commented.import_bulk(commented_edge_collection)\n",
    "else:\n",
    "    print('document already populated')"
   ]
  },
  {
   "cell_type": "code",
   "execution_count": 26,
   "id": "8d2e3422",
   "metadata": {},
   "outputs": [],
   "source": [
    "# create second graph that includes comments in a thread\n",
    "\"\"\"\n",
    "NOTE: It is much easier to add existing collections to a new graph using the Web Interface than it is in python-arango\n",
    "Therefore, I added the following collection through the web interface (users,comments,posts,posted_edge, commented_edge,\n",
    "commented_on_edge)\n",
    "\n",
    "I probably could've created comments in a thread as part of the commented_on edge collection. But to keep it simple I will\n",
    "just make a new edge collection called comment_thread\n",
    "\"\"\"\n",
    "\n",
    "if db.has_graph('reddit_w_threads'):\n",
    "    reddit_w_threads = db.graph('reddit_w_threads')\n",
    "else:\n",
    "    reddit_w_threads = db.create_graph('reddit_w_threads')\n"
   ]
  },
  {
   "cell_type": "code",
   "execution_count": 30,
   "id": "f5a03790",
   "metadata": {},
   "outputs": [],
   "source": [
    "# Read comment thread edge collection\n",
    "with open('arango_formed_data/comment_thread_edge_collection.pkl','rb') as file:\n",
    "    comment_thread_edge_collection = pkl.load(file)"
   ]
  },
  {
   "cell_type": "code",
   "execution_count": 28,
   "id": "e1d4a729",
   "metadata": {},
   "outputs": [],
   "source": [
    "# Create Comment thread (comments and comments) edge collection\n",
    "if reddit_w_threads.has_edge_definition('comment_thread'):\n",
    "    comment_thread = reddit_w_threads.edge_collection('comment_thread')\n",
    "else:\n",
    "    comment_thread = reddit_w_threads.create_edge_definition(\n",
    "        edge_collection='comment_thread',\n",
    "        from_vertex_collections=['comments'],\n",
    "        to_vertex_collections=['comments']\n",
    "    )"
   ]
  },
  {
   "cell_type": "code",
   "execution_count": 31,
   "id": "5290a54e",
   "metadata": {},
   "outputs": [],
   "source": [
    "cursor = db.aql.execute('FOR doc IN comment_thread RETURN doc')\n",
    "\n",
    "if not list(cursor):\n",
    "    comment_thread.import_bulk(comment_thread_edge_collection)\n",
    "else:\n",
    "    print('document already populated')"
   ]
  }
 ],
 "metadata": {
  "kernelspec": {
   "display_name": "Python 3",
   "language": "python",
   "name": "python3"
  },
  "language_info": {
   "codemirror_mode": {
    "name": "ipython",
    "version": 3
   },
   "file_extension": ".py",
   "mimetype": "text/x-python",
   "name": "python",
   "nbconvert_exporter": "python",
   "pygments_lexer": "ipython3",
   "version": "3.8.8"
  }
 },
 "nbformat": 4,
 "nbformat_minor": 5
}

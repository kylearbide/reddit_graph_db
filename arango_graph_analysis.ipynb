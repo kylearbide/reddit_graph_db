{
 "cells": [
  {
   "cell_type": "code",
   "execution_count": 15,
   "id": "24dc02cd",
   "metadata": {},
   "outputs": [],
   "source": [
    "import json\n",
    "import dill as pkl\n",
    "import networkx as nx\n",
    "import matplotlib.pyplot as plt\n",
    "import numpy as np\n",
    "\n",
    "from arango import ArangoClient"
   ]
  },
  {
   "cell_type": "code",
   "execution_count": 2,
   "id": "e82cac14",
   "metadata": {},
   "outputs": [],
   "source": [
    "# Establish Client Connection\n",
    "client = ArangoClient(hosts='http://127.0.0.1:8530')\n",
    "\n",
    "db = client.db('reddit_comp_db', username='root', password='compdb_kyle')"
   ]
  },
  {
   "cell_type": "markdown",
   "id": "5fcf6505",
   "metadata": {},
   "source": [
    "# Simple Queries\n",
    "\n",
    "Lets start with some basic queries. Lets return:\n",
    "    \n",
    "    -The Number of Posts with >300 upvotes\n",
    "    -The Number of Comments with >300 upvotes\n",
    "    -The Number of Users with >5 comments\n",
    "    -The top 5 posts (upvotes)\n",
    "    -The top 5 users (post upvotes)\n"
   ]
  },
  {
   "cell_type": "code",
   "execution_count": 3,
   "id": "d70635ef",
   "metadata": {},
   "outputs": [
    {
     "name": "stdout",
     "output_type": "stream",
     "text": [
      "[170]\n"
     ]
    }
   ],
   "source": [
    "# Number of Posts with >300 Upvotes\n",
    "\n",
    "query = \"\"\"for post in posts\n",
    "        filter post.num_upvotes > 300\n",
    "        collect with count into upvotes\n",
    "        return upvotes\n",
    "        \"\"\"\n",
    "\n",
    "results = db.aql.execute(query)\n",
    "print(list(results))"
   ]
  },
  {
   "cell_type": "code",
   "execution_count": 4,
   "id": "fc4c11ee",
   "metadata": {},
   "outputs": [
    {
     "name": "stdout",
     "output_type": "stream",
     "text": [
      "[174]\n"
     ]
    }
   ],
   "source": [
    "# Number of comments with >300 Upvotes\n",
    "\n",
    "query = \"\"\"for comment in comments\n",
    "        filter comment.upvotes > 300\n",
    "        collect with count into num_upvotes\n",
    "        return num_upvotes\n",
    "        \"\"\"\n",
    "\n",
    "results = db.aql.execute(query)\n",
    "print(list(results))"
   ]
  },
  {
   "cell_type": "code",
   "execution_count": 5,
   "id": "6a20a4e2",
   "metadata": {},
   "outputs": [
    {
     "name": "stdout",
     "output_type": "stream",
     "text": [
      "[339]\n"
     ]
    }
   ],
   "source": [
    "# Number of users with >5 comments\n",
    "\n",
    "query = \"\"\"\n",
    "        for doc in commented\n",
    "        collect user = doc._from \n",
    "        aggregate num_comments = COUNT_DISTINCT(doc._to)\n",
    "        filter num_comments > 5\n",
    "        collect with count into num_users\n",
    "        return num_users\n",
    "        \"\"\"\n",
    "\n",
    "results = db.aql.execute(query)\n",
    "print(list(results))"
   ]
  },
  {
   "cell_type": "code",
   "execution_count": 6,
   "id": "1a416661",
   "metadata": {},
   "outputs": [
    {
     "name": "stdout",
     "output_type": "stream",
     "text": [
      "[{'posts/pst_176': 332}, {'posts/pst_444': 331}, {'posts/pst_445': 331}, {'posts/pst_446': 331}, {'posts/pst_447': 331}]\n"
     ]
    }
   ],
   "source": [
    "# top 5 posts \n",
    "\n",
    "query = \"\"\"\n",
    "        for post in posts\n",
    "        sort post.num_upvotes desc\n",
    "        limit 5\n",
    "        return {[post._id]:post.num_upvotes}\n",
    "        \"\"\"\n",
    "results = db.aql.execute(query)\n",
    "print(list(results))"
   ]
  },
  {
   "cell_type": "code",
   "execution_count": 7,
   "id": "3da52875",
   "metadata": {},
   "outputs": [
    {
     "name": "stdout",
     "output_type": "stream",
     "text": [
      "[{'users/VisualMod': 414}, {'users/AutoModerator': 191}, {'users/Dfree707': 64}, {'users/MoneyManToTheMoon': 44}, {'users/limethedragon': 40}]\n"
     ]
    }
   ],
   "source": [
    "# top 5 users based on number of comments\n",
    "\n",
    "query = \"\"\"\n",
    "        for doc in commented\n",
    "        collect user = doc._from \n",
    "        aggregate num_comments = COUNT_DISTINCT(doc._to)\n",
    "        sort num_comments desc\n",
    "        limit 5\n",
    "        return {[user]: num_comments}\n",
    "        \"\"\"\n",
    "results = db.aql.execute(query)\n",
    "print(list(results))"
   ]
  },
  {
   "cell_type": "markdown",
   "id": "150340b8",
   "metadata": {},
   "source": [
    "# Graph Traversals \n",
    "\n",
    "Graph travelsals are where graph databases can provide the most value. For our database, we will investigate 2 questions that can be uniquely answered through graph traversals.\n",
    "\n",
    "Questions:\n",
    "\n",
    "    -How much of the information in the database can be traced back to the posts made by the AutoModerator\n",
    "    -How many users are involved in a conversation about a given topic?"
   ]
  },
  {
   "cell_type": "code",
   "execution_count": 8,
   "id": "64cadd66",
   "metadata": {},
   "outputs": [
    {
     "name": "stdout",
     "output_type": "stream",
     "text": [
      "[{'users/AutoModerator': 22}]\n"
     ]
    }
   ],
   "source": [
    "# First, lets establish how many posts are made by the AutoModerator\n",
    "\n",
    "query = \"\"\"\n",
    "        for doc in posted\n",
    "        collect user = doc._from \n",
    "        aggregate num_posts = COUNT_DISTINCT(doc._to)\n",
    "        filter user == 'users/AutoModerator'\n",
    "        return {[user]: num_posts}\n",
    "        \"\"\"\n",
    "results = db.aql.execute(query)\n",
    "print(list(results))"
   ]
  },
  {
   "cell_type": "code",
   "execution_count": 9,
   "id": "b7969a27",
   "metadata": {},
   "outputs": [],
   "source": [
    "# Call the reddit graph\n",
    "reddit = db.graph('reddit')"
   ]
  },
  {
   "cell_type": "code",
   "execution_count": 10,
   "id": "d98d4057",
   "metadata": {},
   "outputs": [
    {
     "name": "stdout",
     "output_type": "stream",
     "text": [
      "117\n"
     ]
    }
   ],
   "source": [
    "query =  \"\"\"for v,e,p in 3..6 any 'users/AutoModerator' graph reddit\n",
    "            filter p.vertices[1].tag == 'Daily Discussion' && (LENGTH(p.vertices) <= 4 || p.vertices[4].title)\n",
    "            filter v._id like 'users/%'\n",
    "            return distinct(v)\"\"\"\n",
    "\n",
    "results = db.aql.execute(query)\n",
    "print(len(list(results)))\n"
   ]
  },
  {
   "cell_type": "markdown",
   "id": "1d618807",
   "metadata": {},
   "source": [
    "**There are 117 users who are involved around ideas from 'Daily Discussion'**\n",
    "\n",
    "The analysis can be explained as followed:\n",
    "\n",
    "    -All Users who comment on the daily discussion posts are included in the Daily Discussion community\n",
    "    -If one of the users who comments also makes a post, anyone who comments on their post is included in the community\n",
    "    -The assumption here is that commenters are taking sharing their same opinions from the Daily Discussion and creating      posts.\n",
    "    \n",
    "## Traversal 2\n",
    "\n",
    "**Find how many users are in conversations involving gamestop**\n",
    "\n",
    "The criteria for the above question is as follows:\n",
    "\n",
    "    -Any user who posts or comments about gamestop\n",
    "    -Any user who comments on a post about gamestop\n",
    "    -Any user who comments in a comment thread about gamestop"
   ]
  },
  {
   "cell_type": "code",
   "execution_count": 11,
   "id": "f05a96d1",
   "metadata": {},
   "outputs": [],
   "source": [
    "# Call the reddit with threads graph\n",
    "reddit_w_threads = db.graph('reddit_w_threads')"
   ]
  },
  {
   "cell_type": "code",
   "execution_count": 12,
   "id": "0823c968",
   "metadata": {},
   "outputs": [],
   "source": [
    "#Lets start by compiling a list of all the comments and posts that \n",
    "\n",
    "query = \"\"\"\n",
    "        for comment in comments\n",
    "        filter comment.body =~ \"(?i)gme|gamestop\"\n",
    "        return comment._id\n",
    "        \"\"\"\n",
    "results = db.aql.execute(query)\n",
    "gme_comments = list(results)\n",
    "\n",
    "query = \"\"\"\n",
    "        for post in posts\n",
    "        filter post.body =~ \"(?i)gme|gamestop\"\n",
    "        return post._id\"\"\"\n",
    "\n",
    "results = db.aql.execute(query)\n",
    "gme_posts = list(results)"
   ]
  },
  {
   "cell_type": "code",
   "execution_count": 13,
   "id": "2213aecd",
   "metadata": {},
   "outputs": [],
   "source": [
    "# First we can loop through the posts and return the post author and comment authors\n",
    "users_from_post_comments = []\n",
    "for post in gme_posts:\n",
    "    query = f\"\"\"\n",
    "            for v,e,p in 1..2 any '{post}' graph reddit_w_threads\n",
    "            filter p.edges[1]._id like 'commented%' || length(p.verticies) < 3\n",
    "            filter v._id like 'users/%'\n",
    "            return distinct(v._key)\n",
    "            \"\"\"\n",
    "    results = db.aql.execute(query)\n",
    "    users_from_post_comments = users_from_post_comments + list(results)"
   ]
  },
  {
   "cell_type": "code",
   "execution_count": 14,
   "id": "cb63603c",
   "metadata": {},
   "outputs": [],
   "source": [
    "# Next we wil loop through all the comments and return the comment author and authors involved in the thread\n",
    "users_from_comment_threads = []\n",
    "for comment in gme_comments:\n",
    "    query = f\"\"\"\n",
    "            for v,e,p in 1..3 any '{comment}' graph reddit_w_threads\n",
    "            filter (p.edges[0]._id like \"commented/%\" && length(p.edges) == 1) || \n",
    "            (p.edges[0]._id like \"comment_thread/%\" && p.edges[1]._id like \"commented/%\" && not p.edges[2]._id) ||\n",
    "            (p.edges[0]._id like \"comment_thread/%\" && p.edges[1]._id like \"comment_thread/%\"  && p.edges[2]._id like \"commented/%\")\n",
    "            filter v._id like 'users/%'\n",
    "            return distinct(v._key)\n",
    "            \"\"\"\n",
    "    results = db.aql.execute(query)\n",
    "    users_from_comment_threads = users_from_comment_threads + list(results)"
   ]
  },
  {
   "cell_type": "code",
   "execution_count": 16,
   "id": "f6b263e6",
   "metadata": {},
   "outputs": [
    {
     "name": "stdout",
     "output_type": "stream",
     "text": [
      "There are 1537 unique users involved in gamestop conversations\n"
     ]
    }
   ],
   "source": [
    "# Finally we will combine these lists and keep only unique values. This will give us all the unique users\n",
    "# involved in gamestop conversations\n",
    "\n",
    "all_involved_users = users_from_post_comments + users_from_comment_threads\n",
    "all_involved_users_unique = np.unique(all_involved_users)\n",
    "\n",
    "print(f'There are {len(all_involved_users_unique)} unique users involved in gamestop conversations')"
   ]
  },
  {
   "cell_type": "code",
   "execution_count": 20,
   "id": "4a1f7f8c",
   "metadata": {},
   "outputs": [
    {
     "name": "stdout",
     "output_type": "stream",
     "text": [
      "22.379149679673848% of all users are involved in GME conversations\n"
     ]
    }
   ],
   "source": [
    "query = \"\"\"for user in users\n",
    "        collect with count into num_users\n",
    "        return num_users\n",
    "        \"\"\"\n",
    "\n",
    "results = db.aql.execute(query)\n",
    "num_users = list(results)\n",
    "\n",
    "print(f\"{(len(all_involved_users_unique)/num_users[0])*100}% of all users are involved in GME conversations\")"
   ]
  },
  {
   "cell_type": "code",
   "execution_count": 21,
   "id": "6d4d8f92",
   "metadata": {},
   "outputs": [
    {
     "name": "stdout",
     "output_type": "stream",
     "text": [
      "There are 563 unique users who mentioned gamestop\n",
      "8.197437390797903% of all users mentioned in GME their post/comment\n"
     ]
    }
   ],
   "source": [
    "# Had we not used traversals to find users involved in coversations that had not mentioned gamestop, what would our \n",
    "# results have been?\n",
    "\n",
    "only_direct_users = gme_posts + gme_comments\n",
    "only_direct_users_unique = np.unique(only_direct_users)\n",
    "\n",
    "print(f'There are {len(only_direct_users_unique)} unique users who mentioned gamestop')\n",
    "print(f\"{(len(only_direct_users_unique)/num_users[0])*100}% of all users mentioned in GME their post/comment\")"
   ]
  }
 ],
 "metadata": {
  "kernelspec": {
   "display_name": "Python 3",
   "language": "python",
   "name": "python3"
  },
  "language_info": {
   "codemirror_mode": {
    "name": "ipython",
    "version": 3
   },
   "file_extension": ".py",
   "mimetype": "text/x-python",
   "name": "python",
   "nbconvert_exporter": "python",
   "pygments_lexer": "ipython3",
   "version": "3.8.8"
  }
 },
 "nbformat": 4,
 "nbformat_minor": 5
}
